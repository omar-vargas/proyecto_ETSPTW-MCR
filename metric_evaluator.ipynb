{
 "cells": [
  {
   "cell_type": "code",
   "execution_count": 1,
   "id": "06ffde70",
   "metadata": {},
   "outputs": [],
   "source": [
    "from glob import glob \n",
    "import os\n",
    "from solucion_omar.paper2 import read_etsp_file, filter_arcs_by_time_window, hybrid_sa_ts"
   ]
  },
  {
   "cell_type": "code",
   "execution_count": 10,
   "id": "72a94e3c",
   "metadata": {},
   "outputs": [],
   "source": [
    "\n",
    "pathsProblems = sorted(glob(os.path.join('Dataset', 'Problems', 'Problems', 'ETSPTW-MCR', 'G-E5-MCR(30%)', '*.txt')))\n",
    "pathsSolution = sorted(glob(os.path.join('Dataset', 'Solutions', 'Solutions', 'ETSPTW-MCR', 'G-E5-MCR(30%)', '*.txt')))"
   ]
  },
  {
   "cell_type": "code",
   "execution_count": 12,
   "id": "64166145",
   "metadata": {},
   "outputs": [
    {
     "data": {
      "text/plain": [
       "['Dataset/Solutions/Solutions/ETSPTW-MCR/G-E5-MCR(30%)/route_n20w120s5_1_MCR(30%).txt',\n",
       " 'Dataset/Solutions/Solutions/ETSPTW-MCR/G-E5-MCR(30%)/route_n20w120s5_2_MCR(30%).txt',\n",
       " 'Dataset/Solutions/Solutions/ETSPTW-MCR/G-E5-MCR(30%)/route_n20w120s5_3_MCR(30%).txt',\n",
       " 'Dataset/Solutions/Solutions/ETSPTW-MCR/G-E5-MCR(30%)/route_n20w120s5_4_MCR(30%).txt',\n",
       " 'Dataset/Solutions/Solutions/ETSPTW-MCR/G-E5-MCR(30%)/route_n20w120s5_5_MCR(30%).txt',\n",
       " 'Dataset/Solutions/Solutions/ETSPTW-MCR/G-E5-MCR(30%)/route_n20w140s5_1_MCR(30%).txt',\n",
       " 'Dataset/Solutions/Solutions/ETSPTW-MCR/G-E5-MCR(30%)/route_n20w140s5_2_MCR(30%).txt',\n",
       " 'Dataset/Solutions/Solutions/ETSPTW-MCR/G-E5-MCR(30%)/route_n20w140s5_3_MCR(30%).txt',\n",
       " 'Dataset/Solutions/Solutions/ETSPTW-MCR/G-E5-MCR(30%)/route_n20w140s5_4_MCR(30%).txt',\n",
       " 'Dataset/Solutions/Solutions/ETSPTW-MCR/G-E5-MCR(30%)/route_n20w140s5_5_MCR(30%).txt',\n",
       " 'Dataset/Solutions/Solutions/ETSPTW-MCR/G-E5-MCR(30%)/route_n20w160s5_1_MCR(30%).txt',\n",
       " 'Dataset/Solutions/Solutions/ETSPTW-MCR/G-E5-MCR(30%)/route_n20w160s5_2_MCR(30%).txt',\n",
       " 'Dataset/Solutions/Solutions/ETSPTW-MCR/G-E5-MCR(30%)/route_n20w160s5_3_MCR(30%).txt',\n",
       " 'Dataset/Solutions/Solutions/ETSPTW-MCR/G-E5-MCR(30%)/route_n20w160s5_4_MCR(30%).txt',\n",
       " 'Dataset/Solutions/Solutions/ETSPTW-MCR/G-E5-MCR(30%)/route_n20w160s5_5_MCR(30%).txt',\n",
       " 'Dataset/Solutions/Solutions/ETSPTW-MCR/G-E5-MCR(30%)/route_n20w180s5_1_MCR(30%).txt',\n",
       " 'Dataset/Solutions/Solutions/ETSPTW-MCR/G-E5-MCR(30%)/route_n20w180s5_2_MCR(30%).txt',\n",
       " 'Dataset/Solutions/Solutions/ETSPTW-MCR/G-E5-MCR(30%)/route_n20w180s5_3_MCR(30%).txt',\n",
       " 'Dataset/Solutions/Solutions/ETSPTW-MCR/G-E5-MCR(30%)/route_n20w180s5_4_MCR(30%).txt',\n",
       " 'Dataset/Solutions/Solutions/ETSPTW-MCR/G-E5-MCR(30%)/route_n20w180s5_5_MCR(30%).txt',\n",
       " 'Dataset/Solutions/Solutions/ETSPTW-MCR/G-E5-MCR(30%)/route_n20w200s5_1_MCR(30%).txt',\n",
       " 'Dataset/Solutions/Solutions/ETSPTW-MCR/G-E5-MCR(30%)/route_n20w200s5_2_MCR(30%).txt',\n",
       " 'Dataset/Solutions/Solutions/ETSPTW-MCR/G-E5-MCR(30%)/route_n20w200s5_3_MCR(30%).txt',\n",
       " 'Dataset/Solutions/Solutions/ETSPTW-MCR/G-E5-MCR(30%)/route_n20w200s5_4_MCR(30%).txt',\n",
       " 'Dataset/Solutions/Solutions/ETSPTW-MCR/G-E5-MCR(30%)/route_n20w200s5_5_MCR(30%).txt']"
      ]
     },
     "execution_count": 12,
     "metadata": {},
     "output_type": "execute_result"
    }
   ],
   "source": [
    "pathsSolution"
   ]
  },
  {
   "cell_type": "code",
   "execution_count": 11,
   "id": "26955f7f",
   "metadata": {},
   "outputs": [
    {
     "data": {
      "text/plain": [
       "271"
      ]
     },
     "execution_count": 11,
     "metadata": {},
     "output_type": "execute_result"
    }
   ],
   "source": [
    "def get_solution_cost(path):\n",
    "    with open(path) as file:\n",
    "        lines = file.readlines()\n",
    "        return int(lines[1])\n",
    "get_solution_cost(pathsSolution[0])"
   ]
  },
  {
   "cell_type": "code",
   "execution_count": 20,
   "id": "428490d4",
   "metadata": {},
   "outputs": [],
   "source": [
    "import torch\n",
    "from torch.utils.data import Dataset, DataLoader\n",
    "\n",
    "class MyDataset(Dataset):\n",
    "    def __init__(self, data, labels):\n",
    "        self.data = data\n",
    "        self.labels = labels\n",
    "\n",
    "    def __len__(self):\n",
    "        return len(self.data)\n",
    "\n",
    "    def __getitem__(self, idx):\n",
    "        problemPath = self.data[idx]\n",
    "        optimalCost = get_solution_cost(self.labels[idx])\n",
    "\n",
    "        data = read_etsp_file(problemPath)\n",
    "\n",
    "        filtered_matrix, last_node = filter_arcs_by_time_window(data['nodes'], data['distance_matrix'])\n",
    "        best_solution, best_cost, cost_progression, best_cost_progression = hybrid_sa_ts(\n",
    "        nodes=data['nodes'],\n",
    "        distance_matrix=data['distance_matrix'],\n",
    "        num_customers=data['num_customers'],\n",
    "        battery_capacity=data['battery_capacity'],\n",
    "        energy_rate=data['energy_rate'],\n",
    "        max_iterations=15000,     \n",
    "        T0=10000,                 \n",
    "        alpha=0.95,               \n",
    "        cooling_interval=100,     \n",
    "        perturbation_interval=500, \n",
    "        R=30,                     \n",
    "        tabu_tenure_moves=400,     \n",
    "        tabu_tenure_stations=75)\n",
    "\n",
    "        gap = (best_cost - optimalCost)/optimalCost * 100\n",
    "\n",
    "        return problemPath, optimalCost, best_cost, gap\n",
    "    \n",
    "    "
   ]
  },
  {
   "cell_type": "code",
   "execution_count": null,
   "id": "2ed178c6",
   "metadata": {},
   "outputs": [],
   "source": [
    "dataset = MyDataset(pathsProblems, pathsSolution)\n",
    "dataloader = DataLoader(\n",
    "    dataset,\n",
    "    batch_size=1,\n",
    "    shuffle=False,\n",
    "    num_workers=25,\n",
    "    pin_memory=False,\n",
    "    drop_last=False\n",
    ")"
   ]
  },
  {
   "cell_type": "code",
   "execution_count": 23,
   "id": "d0532a45",
   "metadata": {},
   "outputs": [
    {
     "name": "stderr",
     "output_type": "stream",
     "text": [
      "  4%|▍         | 1/25 [00:30<12:11, 30.49s/it]"
     ]
    },
    {
     "name": "stdout",
     "output_type": "stream",
     "text": [
      "[('Dataset/Problems/Problems/ETSPTW-MCR/G-E5-MCR(30%)/n20w120s5_1_MCR(30%).txt',), tensor([271]), tensor([372.6667], dtype=torch.float64), tensor([37.5154], dtype=torch.float64)]\n"
     ]
    },
    {
     "name": "stderr",
     "output_type": "stream",
     "text": [
      "  8%|▊         | 2/25 [00:57<10:52, 28.35s/it]"
     ]
    },
    {
     "name": "stdout",
     "output_type": "stream",
     "text": [
      "[('Dataset/Problems/Problems/ETSPTW-MCR/G-E5-MCR(30%)/n20w120s5_2_MCR(30%).txt',), tensor([233]), tensor([261.6667], dtype=torch.float64), tensor([12.3033], dtype=torch.float64)]\n",
      "[('Dataset/Problems/Problems/ETSPTW-MCR/G-E5-MCR(30%)/n20w120s5_3_MCR(30%).txt',), tensor([317]), tensor([362.3333], dtype=torch.float64), tensor([14.3007], dtype=torch.float64)]\n",
      "[('Dataset/Problems/Problems/ETSPTW-MCR/G-E5-MCR(30%)/n20w120s5_4_MCR(30%).txt',), tensor([314]), tensor([376.6667], dtype=torch.float64), tensor([19.9575], dtype=torch.float64)]\n",
      "[('Dataset/Problems/Problems/ETSPTW-MCR/G-E5-MCR(30%)/n20w120s5_5_MCR(30%).txt',), tensor([249]), tensor([331.3333], dtype=torch.float64), tensor([33.0656], dtype=torch.float64)]\n",
      "[('Dataset/Problems/Problems/ETSPTW-MCR/G-E5-MCR(30%)/n20w140s5_1_MCR(30%).txt',), tensor([181]), tensor([249.], dtype=torch.float64), tensor([37.5691], dtype=torch.float64)]\n",
      "[('Dataset/Problems/Problems/ETSPTW-MCR/G-E5-MCR(30%)/n20w140s5_2_MCR(30%).txt',), tensor([279]), tensor([320.6667], dtype=torch.float64), tensor([14.9343], dtype=torch.float64)]\n",
      "[('Dataset/Problems/Problems/ETSPTW-MCR/G-E5-MCR(30%)/n20w140s5_3_MCR(30%).txt',), tensor([237]), tensor([312.6667], dtype=torch.float64), tensor([31.9269], dtype=torch.float64)]\n",
      "[('Dataset/Problems/Problems/ETSPTW-MCR/G-E5-MCR(30%)/n20w140s5_4_MCR(30%).txt',), tensor([265]), tensor([335.6667], dtype=torch.float64), tensor([26.6667], dtype=torch.float64)]\n",
      "[('Dataset/Problems/Problems/ETSPTW-MCR/G-E5-MCR(30%)/n20w140s5_5_MCR(30%).txt',), tensor([226]), tensor([275.6667], dtype=torch.float64), tensor([21.9764], dtype=torch.float64)]\n"
     ]
    },
    {
     "name": "stderr",
     "output_type": "stream",
     "text": [
      " 40%|████      | 10/25 [07:37<11:26, 45.74s/it]\n"
     ]
    },
    {
     "ename": "KeyboardInterrupt",
     "evalue": "",
     "output_type": "error",
     "traceback": [
      "\u001b[0;31m---------------------------------------------------------------------------\u001b[0m",
      "\u001b[0;31mKeyboardInterrupt\u001b[0m                         Traceback (most recent call last)",
      "Cell \u001b[0;32mIn[23], line 14\u001b[0m\n\u001b[1;32m      7\u001b[0m dataForDf \u001b[38;5;241m=\u001b[39m {\n\u001b[1;32m      8\u001b[0m     \u001b[38;5;124m'\u001b[39m\u001b[38;5;124mfile_path\u001b[39m\u001b[38;5;124m'\u001b[39m:[],\n\u001b[1;32m      9\u001b[0m     \u001b[38;5;124m'\u001b[39m\u001b[38;5;124moptimal_cost\u001b[39m\u001b[38;5;124m'\u001b[39m:[], \n\u001b[1;32m     10\u001b[0m     \u001b[38;5;124m'\u001b[39m\u001b[38;5;124mbest_cost\u001b[39m\u001b[38;5;124m'\u001b[39m:[], \n\u001b[1;32m     11\u001b[0m     \u001b[38;5;124m'\u001b[39m\u001b[38;5;124mgap\u001b[39m\u001b[38;5;124m'\u001b[39m:[]\n\u001b[1;32m     12\u001b[0m }\n\u001b[1;32m     13\u001b[0m i\u001b[38;5;241m=\u001b[39m\u001b[38;5;241m0\u001b[39m\n\u001b[0;32m---> 14\u001b[0m \u001b[38;5;28;01mfor\u001b[39;00m batch \u001b[38;5;129;01min\u001b[39;00m tqdm(dataloader):\n\u001b[1;32m     15\u001b[0m     file_path, optimal_cost, best_cost, gap \u001b[38;5;241m=\u001b[39m  batch\n\u001b[1;32m     16\u001b[0m     \u001b[38;5;28mprint\u001b[39m(batch)\n",
      "File \u001b[0;32m~/3dStuff/lib/python3.10/site-packages/tqdm/std.py:1181\u001b[0m, in \u001b[0;36mtqdm.__iter__\u001b[0;34m(self)\u001b[0m\n\u001b[1;32m   1178\u001b[0m time \u001b[38;5;241m=\u001b[39m \u001b[38;5;28mself\u001b[39m\u001b[38;5;241m.\u001b[39m_time\n\u001b[1;32m   1180\u001b[0m \u001b[38;5;28;01mtry\u001b[39;00m:\n\u001b[0;32m-> 1181\u001b[0m     \u001b[38;5;28;01mfor\u001b[39;00m obj \u001b[38;5;129;01min\u001b[39;00m iterable:\n\u001b[1;32m   1182\u001b[0m         \u001b[38;5;28;01myield\u001b[39;00m obj\n\u001b[1;32m   1183\u001b[0m         \u001b[38;5;66;03m# Update and possibly print the progressbar.\u001b[39;00m\n\u001b[1;32m   1184\u001b[0m         \u001b[38;5;66;03m# Note: does not call self.update(1) for speed optimisation.\u001b[39;00m\n",
      "File \u001b[0;32m~/3dStuff/lib/python3.10/site-packages/torch/utils/data/dataloader.py:733\u001b[0m, in \u001b[0;36m_BaseDataLoaderIter.__next__\u001b[0;34m(self)\u001b[0m\n\u001b[1;32m    730\u001b[0m \u001b[38;5;28;01mif\u001b[39;00m \u001b[38;5;28mself\u001b[39m\u001b[38;5;241m.\u001b[39m_sampler_iter \u001b[38;5;129;01mis\u001b[39;00m \u001b[38;5;28;01mNone\u001b[39;00m:\n\u001b[1;32m    731\u001b[0m     \u001b[38;5;66;03m# TODO(https://github.com/pytorch/pytorch/issues/76750)\u001b[39;00m\n\u001b[1;32m    732\u001b[0m     \u001b[38;5;28mself\u001b[39m\u001b[38;5;241m.\u001b[39m_reset()  \u001b[38;5;66;03m# type: ignore[call-arg]\u001b[39;00m\n\u001b[0;32m--> 733\u001b[0m data \u001b[38;5;241m=\u001b[39m \u001b[38;5;28;43mself\u001b[39;49m\u001b[38;5;241;43m.\u001b[39;49m\u001b[43m_next_data\u001b[49m\u001b[43m(\u001b[49m\u001b[43m)\u001b[49m\n\u001b[1;32m    734\u001b[0m \u001b[38;5;28mself\u001b[39m\u001b[38;5;241m.\u001b[39m_num_yielded \u001b[38;5;241m+\u001b[39m\u001b[38;5;241m=\u001b[39m \u001b[38;5;241m1\u001b[39m\n\u001b[1;32m    735\u001b[0m \u001b[38;5;28;01mif\u001b[39;00m (\n\u001b[1;32m    736\u001b[0m     \u001b[38;5;28mself\u001b[39m\u001b[38;5;241m.\u001b[39m_dataset_kind \u001b[38;5;241m==\u001b[39m _DatasetKind\u001b[38;5;241m.\u001b[39mIterable\n\u001b[1;32m    737\u001b[0m     \u001b[38;5;129;01mand\u001b[39;00m \u001b[38;5;28mself\u001b[39m\u001b[38;5;241m.\u001b[39m_IterableDataset_len_called \u001b[38;5;129;01mis\u001b[39;00m \u001b[38;5;129;01mnot\u001b[39;00m \u001b[38;5;28;01mNone\u001b[39;00m\n\u001b[1;32m    738\u001b[0m     \u001b[38;5;129;01mand\u001b[39;00m \u001b[38;5;28mself\u001b[39m\u001b[38;5;241m.\u001b[39m_num_yielded \u001b[38;5;241m>\u001b[39m \u001b[38;5;28mself\u001b[39m\u001b[38;5;241m.\u001b[39m_IterableDataset_len_called\n\u001b[1;32m    739\u001b[0m ):\n",
      "File \u001b[0;32m~/3dStuff/lib/python3.10/site-packages/torch/utils/data/dataloader.py:1491\u001b[0m, in \u001b[0;36m_MultiProcessingDataLoaderIter._next_data\u001b[0;34m(self)\u001b[0m\n\u001b[1;32m   1488\u001b[0m     \u001b[38;5;28;01mreturn\u001b[39;00m \u001b[38;5;28mself\u001b[39m\u001b[38;5;241m.\u001b[39m_process_data(data, worker_id)\n\u001b[1;32m   1490\u001b[0m \u001b[38;5;28;01massert\u001b[39;00m \u001b[38;5;129;01mnot\u001b[39;00m \u001b[38;5;28mself\u001b[39m\u001b[38;5;241m.\u001b[39m_shutdown \u001b[38;5;129;01mand\u001b[39;00m \u001b[38;5;28mself\u001b[39m\u001b[38;5;241m.\u001b[39m_tasks_outstanding \u001b[38;5;241m>\u001b[39m \u001b[38;5;241m0\u001b[39m\n\u001b[0;32m-> 1491\u001b[0m idx, data \u001b[38;5;241m=\u001b[39m \u001b[38;5;28;43mself\u001b[39;49m\u001b[38;5;241;43m.\u001b[39;49m\u001b[43m_get_data\u001b[49m\u001b[43m(\u001b[49m\u001b[43m)\u001b[49m\n\u001b[1;32m   1492\u001b[0m \u001b[38;5;28mself\u001b[39m\u001b[38;5;241m.\u001b[39m_tasks_outstanding \u001b[38;5;241m-\u001b[39m\u001b[38;5;241m=\u001b[39m \u001b[38;5;241m1\u001b[39m\n\u001b[1;32m   1493\u001b[0m \u001b[38;5;28;01mif\u001b[39;00m \u001b[38;5;28mself\u001b[39m\u001b[38;5;241m.\u001b[39m_dataset_kind \u001b[38;5;241m==\u001b[39m _DatasetKind\u001b[38;5;241m.\u001b[39mIterable:\n\u001b[1;32m   1494\u001b[0m     \u001b[38;5;66;03m# Check for _IterableDatasetStopIteration\u001b[39;00m\n",
      "File \u001b[0;32m~/3dStuff/lib/python3.10/site-packages/torch/utils/data/dataloader.py:1453\u001b[0m, in \u001b[0;36m_MultiProcessingDataLoaderIter._get_data\u001b[0;34m(self)\u001b[0m\n\u001b[1;32m   1449\u001b[0m     \u001b[38;5;66;03m# In this case, `self._data_queue` is a `queue.Queue`,. But we don't\u001b[39;00m\n\u001b[1;32m   1450\u001b[0m     \u001b[38;5;66;03m# need to call `.task_done()` because we don't use `.join()`.\u001b[39;00m\n\u001b[1;32m   1451\u001b[0m \u001b[38;5;28;01melse\u001b[39;00m:\n\u001b[1;32m   1452\u001b[0m     \u001b[38;5;28;01mwhile\u001b[39;00m \u001b[38;5;28;01mTrue\u001b[39;00m:\n\u001b[0;32m-> 1453\u001b[0m         success, data \u001b[38;5;241m=\u001b[39m \u001b[38;5;28;43mself\u001b[39;49m\u001b[38;5;241;43m.\u001b[39;49m\u001b[43m_try_get_data\u001b[49m\u001b[43m(\u001b[49m\u001b[43m)\u001b[49m\n\u001b[1;32m   1454\u001b[0m         \u001b[38;5;28;01mif\u001b[39;00m success:\n\u001b[1;32m   1455\u001b[0m             \u001b[38;5;28;01mreturn\u001b[39;00m data\n",
      "File \u001b[0;32m~/3dStuff/lib/python3.10/site-packages/torch/utils/data/dataloader.py:1284\u001b[0m, in \u001b[0;36m_MultiProcessingDataLoaderIter._try_get_data\u001b[0;34m(self, timeout)\u001b[0m\n\u001b[1;32m   1271\u001b[0m \u001b[38;5;28;01mdef\u001b[39;00m\u001b[38;5;250m \u001b[39m\u001b[38;5;21m_try_get_data\u001b[39m(\u001b[38;5;28mself\u001b[39m, timeout\u001b[38;5;241m=\u001b[39m_utils\u001b[38;5;241m.\u001b[39mMP_STATUS_CHECK_INTERVAL):\n\u001b[1;32m   1272\u001b[0m     \u001b[38;5;66;03m# Tries to fetch data from `self._data_queue` once for a given timeout.\u001b[39;00m\n\u001b[1;32m   1273\u001b[0m     \u001b[38;5;66;03m# This can also be used as inner loop of fetching without timeout, with\u001b[39;00m\n\u001b[0;32m   (...)\u001b[0m\n\u001b[1;32m   1281\u001b[0m     \u001b[38;5;66;03m# Returns a 2-tuple:\u001b[39;00m\n\u001b[1;32m   1282\u001b[0m     \u001b[38;5;66;03m#   (bool: whether successfully get data, any: data if successful else None)\u001b[39;00m\n\u001b[1;32m   1283\u001b[0m     \u001b[38;5;28;01mtry\u001b[39;00m:\n\u001b[0;32m-> 1284\u001b[0m         data \u001b[38;5;241m=\u001b[39m \u001b[38;5;28;43mself\u001b[39;49m\u001b[38;5;241;43m.\u001b[39;49m\u001b[43m_data_queue\u001b[49m\u001b[38;5;241;43m.\u001b[39;49m\u001b[43mget\u001b[49m\u001b[43m(\u001b[49m\u001b[43mtimeout\u001b[49m\u001b[38;5;241;43m=\u001b[39;49m\u001b[43mtimeout\u001b[49m\u001b[43m)\u001b[49m\n\u001b[1;32m   1285\u001b[0m         \u001b[38;5;28;01mreturn\u001b[39;00m (\u001b[38;5;28;01mTrue\u001b[39;00m, data)\n\u001b[1;32m   1286\u001b[0m     \u001b[38;5;28;01mexcept\u001b[39;00m \u001b[38;5;167;01mException\u001b[39;00m \u001b[38;5;28;01mas\u001b[39;00m e:\n\u001b[1;32m   1287\u001b[0m         \u001b[38;5;66;03m# At timeout and error, we manually check whether any worker has\u001b[39;00m\n\u001b[1;32m   1288\u001b[0m         \u001b[38;5;66;03m# failed. Note that this is the only mechanism for Windows to detect\u001b[39;00m\n\u001b[1;32m   1289\u001b[0m         \u001b[38;5;66;03m# worker failures.\u001b[39;00m\n",
      "File \u001b[0;32m/usr/lib/python3.10/multiprocessing/queues.py:113\u001b[0m, in \u001b[0;36mQueue.get\u001b[0;34m(self, block, timeout)\u001b[0m\n\u001b[1;32m    111\u001b[0m \u001b[38;5;28;01mif\u001b[39;00m block:\n\u001b[1;32m    112\u001b[0m     timeout \u001b[38;5;241m=\u001b[39m deadline \u001b[38;5;241m-\u001b[39m time\u001b[38;5;241m.\u001b[39mmonotonic()\n\u001b[0;32m--> 113\u001b[0m     \u001b[38;5;28;01mif\u001b[39;00m \u001b[38;5;129;01mnot\u001b[39;00m \u001b[38;5;28;43mself\u001b[39;49m\u001b[38;5;241;43m.\u001b[39;49m\u001b[43m_poll\u001b[49m\u001b[43m(\u001b[49m\u001b[43mtimeout\u001b[49m\u001b[43m)\u001b[49m:\n\u001b[1;32m    114\u001b[0m         \u001b[38;5;28;01mraise\u001b[39;00m Empty\n\u001b[1;32m    115\u001b[0m \u001b[38;5;28;01melif\u001b[39;00m \u001b[38;5;129;01mnot\u001b[39;00m \u001b[38;5;28mself\u001b[39m\u001b[38;5;241m.\u001b[39m_poll():\n",
      "File \u001b[0;32m/usr/lib/python3.10/multiprocessing/connection.py:257\u001b[0m, in \u001b[0;36m_ConnectionBase.poll\u001b[0;34m(self, timeout)\u001b[0m\n\u001b[1;32m    255\u001b[0m \u001b[38;5;28mself\u001b[39m\u001b[38;5;241m.\u001b[39m_check_closed()\n\u001b[1;32m    256\u001b[0m \u001b[38;5;28mself\u001b[39m\u001b[38;5;241m.\u001b[39m_check_readable()\n\u001b[0;32m--> 257\u001b[0m \u001b[38;5;28;01mreturn\u001b[39;00m \u001b[38;5;28;43mself\u001b[39;49m\u001b[38;5;241;43m.\u001b[39;49m\u001b[43m_poll\u001b[49m\u001b[43m(\u001b[49m\u001b[43mtimeout\u001b[49m\u001b[43m)\u001b[49m\n",
      "File \u001b[0;32m/usr/lib/python3.10/multiprocessing/connection.py:424\u001b[0m, in \u001b[0;36mConnection._poll\u001b[0;34m(self, timeout)\u001b[0m\n\u001b[1;32m    423\u001b[0m \u001b[38;5;28;01mdef\u001b[39;00m\u001b[38;5;250m \u001b[39m\u001b[38;5;21m_poll\u001b[39m(\u001b[38;5;28mself\u001b[39m, timeout):\n\u001b[0;32m--> 424\u001b[0m     r \u001b[38;5;241m=\u001b[39m \u001b[43mwait\u001b[49m\u001b[43m(\u001b[49m\u001b[43m[\u001b[49m\u001b[38;5;28;43mself\u001b[39;49m\u001b[43m]\u001b[49m\u001b[43m,\u001b[49m\u001b[43m \u001b[49m\u001b[43mtimeout\u001b[49m\u001b[43m)\u001b[49m\n\u001b[1;32m    425\u001b[0m     \u001b[38;5;28;01mreturn\u001b[39;00m \u001b[38;5;28mbool\u001b[39m(r)\n",
      "File \u001b[0;32m/usr/lib/python3.10/multiprocessing/connection.py:931\u001b[0m, in \u001b[0;36mwait\u001b[0;34m(object_list, timeout)\u001b[0m\n\u001b[1;32m    928\u001b[0m     deadline \u001b[38;5;241m=\u001b[39m time\u001b[38;5;241m.\u001b[39mmonotonic() \u001b[38;5;241m+\u001b[39m timeout\n\u001b[1;32m    930\u001b[0m \u001b[38;5;28;01mwhile\u001b[39;00m \u001b[38;5;28;01mTrue\u001b[39;00m:\n\u001b[0;32m--> 931\u001b[0m     ready \u001b[38;5;241m=\u001b[39m \u001b[43mselector\u001b[49m\u001b[38;5;241;43m.\u001b[39;49m\u001b[43mselect\u001b[49m\u001b[43m(\u001b[49m\u001b[43mtimeout\u001b[49m\u001b[43m)\u001b[49m\n\u001b[1;32m    932\u001b[0m     \u001b[38;5;28;01mif\u001b[39;00m ready:\n\u001b[1;32m    933\u001b[0m         \u001b[38;5;28;01mreturn\u001b[39;00m [key\u001b[38;5;241m.\u001b[39mfileobj \u001b[38;5;28;01mfor\u001b[39;00m (key, events) \u001b[38;5;129;01min\u001b[39;00m ready]\n",
      "File \u001b[0;32m/usr/lib/python3.10/selectors.py:416\u001b[0m, in \u001b[0;36m_PollLikeSelector.select\u001b[0;34m(self, timeout)\u001b[0m\n\u001b[1;32m    414\u001b[0m ready \u001b[38;5;241m=\u001b[39m []\n\u001b[1;32m    415\u001b[0m \u001b[38;5;28;01mtry\u001b[39;00m:\n\u001b[0;32m--> 416\u001b[0m     fd_event_list \u001b[38;5;241m=\u001b[39m \u001b[38;5;28;43mself\u001b[39;49m\u001b[38;5;241;43m.\u001b[39;49m\u001b[43m_selector\u001b[49m\u001b[38;5;241;43m.\u001b[39;49m\u001b[43mpoll\u001b[49m\u001b[43m(\u001b[49m\u001b[43mtimeout\u001b[49m\u001b[43m)\u001b[49m\n\u001b[1;32m    417\u001b[0m \u001b[38;5;28;01mexcept\u001b[39;00m \u001b[38;5;167;01mInterruptedError\u001b[39;00m:\n\u001b[1;32m    418\u001b[0m     \u001b[38;5;28;01mreturn\u001b[39;00m ready\n",
      "\u001b[0;31mKeyboardInterrupt\u001b[0m: "
     ]
    }
   ],
   "source": [
    "import numpy as np\n",
    "from tqdm import tqdm\n",
    "\n",
    "batchSize = dataloader.batch_size\n",
    "results = np.full((len(dataset), 3), fill_value=np.nan, dtype=np.float32)\n",
    "\n",
    "dataForDf = {\n",
    "    'file_path':[],\n",
    "    'optimal_cost':[], \n",
    "    'best_cost':[], \n",
    "    'gap':[]\n",
    "}\n",
    "i=0\n",
    "for batch in tqdm(dataloader):\n",
    "    file_path, optimal_cost, best_cost, gap =  batch\n",
    "    print(batch)\n",
    "\n",
    "    dataForDf['file_path'].append(file_path[0])\n",
    "    dataForDf['optimal_cost'].append(optimal_cost.item())\n",
    "    dataForDf['best_cost'].append(best_cost.item())\n",
    "    dataForDf['gap'].append(gap.item())\n",
    "\n",
    "    i+=1\n"
   ]
  },
  {
   "cell_type": "code",
   "execution_count": null,
   "id": "3bdb16bb",
   "metadata": {},
   "outputs": [],
   "source": [
    "import pandas as pd\n",
    "results = pd.DataFrame(dataForDf)\n",
    "results"
   ]
  },
  {
   "cell_type": "code",
   "execution_count": null,
   "id": "d8ad36ca",
   "metadata": {},
   "outputs": [],
   "source": [
    "results.to_csv(\"results G-E5-MCR(30%)\", index=False)"
   ]
  }
 ],
 "metadata": {
  "kernelspec": {
   "display_name": "3dStuff",
   "language": "python",
   "name": "python3"
  },
  "language_info": {
   "codemirror_mode": {
    "name": "ipython",
    "version": 3
   },
   "file_extension": ".py",
   "mimetype": "text/x-python",
   "name": "python",
   "nbconvert_exporter": "python",
   "pygments_lexer": "ipython3",
   "version": "3.10.12"
  }
 },
 "nbformat": 4,
 "nbformat_minor": 5
}
