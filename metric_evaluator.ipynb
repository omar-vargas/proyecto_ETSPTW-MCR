{
 "cells": [
  {
   "cell_type": "code",
   "execution_count": null,
   "id": "06ffde70",
   "metadata": {},
   "outputs": [],
   "source": [
    "from glob import glob \n",
    "import os\n",
    "from solucion_omar.paper2 import read_etsp_file, filter_arcs_by_time_window, hybrid_sa_ts"
   ]
  },
  {
   "cell_type": "code",
   "execution_count": null,
   "id": "72a94e3c",
   "metadata": {},
   "outputs": [],
   "source": [
    "\n",
    "pathsProblems = sorted(glob(os.path.join('Dataset', 'Problems', 'Problems', 'ETSPTW-MCR', '*', '*.txt')))\n",
    "pathsSolution = sorted(glob(os.path.join('Dataset', 'Solutions', 'Solutions', 'ETSPTW-MCR', '*', '*.txt')))"
   ]
  },
  {
   "cell_type": "code",
   "execution_count": null,
   "id": "26955f7f",
   "metadata": {},
   "outputs": [
    {
     "data": {
      "text/plain": [
       "178"
      ]
     },
     "execution_count": 15,
     "metadata": {},
     "output_type": "execute_result"
    }
   ],
   "source": [
    "def get_solution_cost(path):\n",
    "    with open(path) as file:\n",
    "        lines = file.readlines()\n",
    "        return int(lines[1])"
   ]
  },
  {
   "cell_type": "code",
   "execution_count": null,
   "id": "428490d4",
   "metadata": {},
   "outputs": [],
   "source": [
    "import torch\n",
    "from torch.utils.data import Dataset, DataLoader\n",
    "\n",
    "class MyDataset(Dataset):\n",
    "    def __init__(self, data, labels):\n",
    "        self.data = data\n",
    "        self.labels = labels\n",
    "\n",
    "    def __len__(self):\n",
    "        return len(self.data)\n",
    "\n",
    "    def __getitem__(self, idx):\n",
    "        problemPath = self.data[idx]\n",
    "        optimalCost = get_solution_cost(self.labels[idx])\n",
    "\n",
    "        data = read_etsp_file(problemPath)\n",
    "\n",
    "        filtered_matrix, last_node = filter_arcs_by_time_window(data['nodes'], data['distance_matrix'])\n",
    "        best_solution, best_cost, cost_progression, best_cost_progression = hybrid_sa_ts(\n",
    "        nodes=data['nodes'],\n",
    "        distance_matrix=data['distance_matrix'],\n",
    "        num_customers=data['num_customers'],\n",
    "        battery_capacity=data['battery_capacity'],\n",
    "        energy_rate=data['energy_rate'],\n",
    "        max_iterations=15000,     \n",
    "        T0=10000,                 \n",
    "        alpha=0.95,               \n",
    "        cooling_interval=100,     \n",
    "        perturbation_interval=500, \n",
    "        R=30,                     \n",
    "        tabu_tenure_moves=400,     \n",
    "        tabu_tenure_stations=75)\n",
    "\n",
    "        gap = (best_cost - optimalCost)/optimalCost * 100\n",
    "\n",
    "        return optimalCost, best_cost, gap\n",
    "    \n",
    "    "
   ]
  },
  {
   "cell_type": "code",
   "execution_count": 18,
   "id": "2ed178c6",
   "metadata": {},
   "outputs": [],
   "source": [
    "dataset = MyDataset(pathsProblems, pathsSolution)\n",
    "dataloader = DataLoader(\n",
    "    dataset,\n",
    "    batch_size=16,\n",
    "    shuffle=False,\n",
    "    num_workers=8,\n",
    "    pin_memory=False,\n",
    "    drop_last=False\n",
    ")"
   ]
  },
  {
   "cell_type": "code",
   "execution_count": null,
   "id": "d0532a45",
   "metadata": {},
   "outputs": [],
   "source": []
  }
 ],
 "metadata": {
  "kernelspec": {
   "display_name": "base",
   "language": "python",
   "name": "python3"
  },
  "language_info": {
   "codemirror_mode": {
    "name": "ipython",
    "version": 3
   },
   "file_extension": ".py",
   "mimetype": "text/x-python",
   "name": "python",
   "nbconvert_exporter": "python",
   "pygments_lexer": "ipython3",
   "version": "3.11.5"
  }
 },
 "nbformat": 4,
 "nbformat_minor": 5
}
